{
 "cells": [
  {
   "cell_type": "code",
   "execution_count": 2,
   "metadata": {
    "collapsed": true,
    "ExecuteTime": {
     "start_time": "2023-05-18T18:35:22.405443Z",
     "end_time": "2023-05-18T18:35:22.563440Z"
    }
   },
   "outputs": [
    {
     "data": {
      "text/plain": "    _unit_id  _golden _unit_state  _trusted_judgments _last_judgment_at  \\\n0  681448150    False   finalized                   3      2/25/15 5:24   \n1  681448153    False   finalized                   3      2/25/15 1:53   \n2  681448156    False   finalized                   3     2/25/15 10:01   \n3  681448158    False   finalized                   3      2/25/15 3:05   \n4  681448159    False   finalized                   3      2/25/15 5:50   \n\n  airline_sentiment  airline_sentiment:confidence negativereason  \\\n0           neutral                        1.0000            NaN   \n1          positive                        0.3486            NaN   \n2           neutral                        0.6837            NaN   \n3          negative                        1.0000     Bad Flight   \n4          negative                        1.0000     Can't Tell   \n\n   negativereason:confidence         airline airline_sentiment_gold  \\\n0                        NaN  Virgin America                    NaN   \n1                     0.0000  Virgin America                    NaN   \n2                        NaN  Virgin America                    NaN   \n3                     0.7033  Virgin America                    NaN   \n4                     1.0000  Virgin America                    NaN   \n\n         name negativereason_gold  retweet_count  \\\n0     cairdin                 NaN              0   \n1    jnardino                 NaN              0   \n2  yvonnalynn                 NaN              0   \n3    jnardino                 NaN              0   \n4    jnardino                 NaN              0   \n\n                                                text tweet_coord  \\\n0                @VirginAmerica What @dhepburn said.         NaN   \n1  @VirginAmerica plus you've added commercials t...         NaN   \n2  @VirginAmerica I didn't today... Must mean I n...         NaN   \n3  @VirginAmerica it's really aggressive to blast...         NaN   \n4  @VirginAmerica and it's a really big bad thing...         NaN   \n\n   tweet_created      tweet_id tweet_location               user_timezone  \n0  2/24/15 11:35  5.703060e+17            NaN  Eastern Time (US & Canada)  \n1  2/24/15 11:15  5.703010e+17            NaN  Pacific Time (US & Canada)  \n2  2/24/15 11:15  5.703010e+17      Lets Play  Central Time (US & Canada)  \n3  2/24/15 11:15  5.703010e+17            NaN  Pacific Time (US & Canada)  \n4  2/24/15 11:14  5.703010e+17            NaN  Pacific Time (US & Canada)  ",
      "text/html": "<div>\n<style scoped>\n    .dataframe tbody tr th:only-of-type {\n        vertical-align: middle;\n    }\n\n    .dataframe tbody tr th {\n        vertical-align: top;\n    }\n\n    .dataframe thead th {\n        text-align: right;\n    }\n</style>\n<table border=\"1\" class=\"dataframe\">\n  <thead>\n    <tr style=\"text-align: right;\">\n      <th></th>\n      <th>_unit_id</th>\n      <th>_golden</th>\n      <th>_unit_state</th>\n      <th>_trusted_judgments</th>\n      <th>_last_judgment_at</th>\n      <th>airline_sentiment</th>\n      <th>airline_sentiment:confidence</th>\n      <th>negativereason</th>\n      <th>negativereason:confidence</th>\n      <th>airline</th>\n      <th>airline_sentiment_gold</th>\n      <th>name</th>\n      <th>negativereason_gold</th>\n      <th>retweet_count</th>\n      <th>text</th>\n      <th>tweet_coord</th>\n      <th>tweet_created</th>\n      <th>tweet_id</th>\n      <th>tweet_location</th>\n      <th>user_timezone</th>\n    </tr>\n  </thead>\n  <tbody>\n    <tr>\n      <th>0</th>\n      <td>681448150</td>\n      <td>False</td>\n      <td>finalized</td>\n      <td>3</td>\n      <td>2/25/15 5:24</td>\n      <td>neutral</td>\n      <td>1.0000</td>\n      <td>NaN</td>\n      <td>NaN</td>\n      <td>Virgin America</td>\n      <td>NaN</td>\n      <td>cairdin</td>\n      <td>NaN</td>\n      <td>0</td>\n      <td>@VirginAmerica What @dhepburn said.</td>\n      <td>NaN</td>\n      <td>2/24/15 11:35</td>\n      <td>5.703060e+17</td>\n      <td>NaN</td>\n      <td>Eastern Time (US &amp; Canada)</td>\n    </tr>\n    <tr>\n      <th>1</th>\n      <td>681448153</td>\n      <td>False</td>\n      <td>finalized</td>\n      <td>3</td>\n      <td>2/25/15 1:53</td>\n      <td>positive</td>\n      <td>0.3486</td>\n      <td>NaN</td>\n      <td>0.0000</td>\n      <td>Virgin America</td>\n      <td>NaN</td>\n      <td>jnardino</td>\n      <td>NaN</td>\n      <td>0</td>\n      <td>@VirginAmerica plus you've added commercials t...</td>\n      <td>NaN</td>\n      <td>2/24/15 11:15</td>\n      <td>5.703010e+17</td>\n      <td>NaN</td>\n      <td>Pacific Time (US &amp; Canada)</td>\n    </tr>\n    <tr>\n      <th>2</th>\n      <td>681448156</td>\n      <td>False</td>\n      <td>finalized</td>\n      <td>3</td>\n      <td>2/25/15 10:01</td>\n      <td>neutral</td>\n      <td>0.6837</td>\n      <td>NaN</td>\n      <td>NaN</td>\n      <td>Virgin America</td>\n      <td>NaN</td>\n      <td>yvonnalynn</td>\n      <td>NaN</td>\n      <td>0</td>\n      <td>@VirginAmerica I didn't today... Must mean I n...</td>\n      <td>NaN</td>\n      <td>2/24/15 11:15</td>\n      <td>5.703010e+17</td>\n      <td>Lets Play</td>\n      <td>Central Time (US &amp; Canada)</td>\n    </tr>\n    <tr>\n      <th>3</th>\n      <td>681448158</td>\n      <td>False</td>\n      <td>finalized</td>\n      <td>3</td>\n      <td>2/25/15 3:05</td>\n      <td>negative</td>\n      <td>1.0000</td>\n      <td>Bad Flight</td>\n      <td>0.7033</td>\n      <td>Virgin America</td>\n      <td>NaN</td>\n      <td>jnardino</td>\n      <td>NaN</td>\n      <td>0</td>\n      <td>@VirginAmerica it's really aggressive to blast...</td>\n      <td>NaN</td>\n      <td>2/24/15 11:15</td>\n      <td>5.703010e+17</td>\n      <td>NaN</td>\n      <td>Pacific Time (US &amp; Canada)</td>\n    </tr>\n    <tr>\n      <th>4</th>\n      <td>681448159</td>\n      <td>False</td>\n      <td>finalized</td>\n      <td>3</td>\n      <td>2/25/15 5:50</td>\n      <td>negative</td>\n      <td>1.0000</td>\n      <td>Can't Tell</td>\n      <td>1.0000</td>\n      <td>Virgin America</td>\n      <td>NaN</td>\n      <td>jnardino</td>\n      <td>NaN</td>\n      <td>0</td>\n      <td>@VirginAmerica and it's a really big bad thing...</td>\n      <td>NaN</td>\n      <td>2/24/15 11:14</td>\n      <td>5.703010e+17</td>\n      <td>NaN</td>\n      <td>Pacific Time (US &amp; Canada)</td>\n    </tr>\n  </tbody>\n</table>\n</div>"
     },
     "execution_count": 2,
     "metadata": {},
     "output_type": "execute_result"
    }
   ],
   "source": [
    "import pandas as pd\n",
    "\n",
    "data_airline = pd.read_csv('data/Airline-Sentiment-2-w-AA.csv', encoding='latin-1')\n",
    "data_airline.head()\n"
   ]
  },
  {
   "cell_type": "code",
   "execution_count": null,
   "outputs": [],
   "source": [
    "data_apple = pd.read_csv('/content/sample_data/Apple-Twitter-Sentiment-DFE.csv', encoding='latin-1')\n",
    "# data_apple.head()"
   ],
   "metadata": {
    "collapsed": false
   }
  }
 ],
 "metadata": {
  "kernelspec": {
   "display_name": "Python 3",
   "language": "python",
   "name": "python3"
  },
  "language_info": {
   "codemirror_mode": {
    "name": "ipython",
    "version": 2
   },
   "file_extension": ".py",
   "mimetype": "text/x-python",
   "name": "python",
   "nbconvert_exporter": "python",
   "pygments_lexer": "ipython2",
   "version": "2.7.6"
  }
 },
 "nbformat": 4,
 "nbformat_minor": 0
}
