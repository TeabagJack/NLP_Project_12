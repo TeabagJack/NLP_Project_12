{
 "cells": [
  {
   "cell_type": "code",
   "execution_count": 1,
   "metadata": {
    "collapsed": true,
    "ExecuteTime": {
     "end_time": "2023-05-21T17:03:05.052630600Z",
     "start_time": "2023-05-21T17:03:04.546624700Z"
    }
   },
   "outputs": [
    {
     "data": {
      "text/plain": "    _unit_id  _golden _unit_state  _trusted_judgments _last_judgment_at  \\\n0  681448150    False   finalized                   3      2/25/15 5:24   \n1  681448153    False   finalized                   3      2/25/15 1:53   \n2  681448156    False   finalized                   3     2/25/15 10:01   \n3  681448158    False   finalized                   3      2/25/15 3:05   \n4  681448159    False   finalized                   3      2/25/15 5:50   \n\n  airline_sentiment  airline_sentiment:confidence negativereason  \\\n0           neutral                        1.0000            NaN   \n1          positive                        0.3486            NaN   \n2           neutral                        0.6837            NaN   \n3          negative                        1.0000     Bad Flight   \n4          negative                        1.0000     Can't Tell   \n\n   negativereason:confidence         airline airline_sentiment_gold  \\\n0                        NaN  Virgin America                    NaN   \n1                     0.0000  Virgin America                    NaN   \n2                        NaN  Virgin America                    NaN   \n3                     0.7033  Virgin America                    NaN   \n4                     1.0000  Virgin America                    NaN   \n\n         name negativereason_gold  retweet_count  \\\n0     cairdin                 NaN              0   \n1    jnardino                 NaN              0   \n2  yvonnalynn                 NaN              0   \n3    jnardino                 NaN              0   \n4    jnardino                 NaN              0   \n\n                                                text tweet_coord  \\\n0                @VirginAmerica What @dhepburn said.         NaN   \n1  @VirginAmerica plus you've added commercials t...         NaN   \n2  @VirginAmerica I didn't today... Must mean I n...         NaN   \n3  @VirginAmerica it's really aggressive to blast...         NaN   \n4  @VirginAmerica and it's a really big bad thing...         NaN   \n\n   tweet_created      tweet_id tweet_location               user_timezone  \n0  2/24/15 11:35  5.703060e+17            NaN  Eastern Time (US & Canada)  \n1  2/24/15 11:15  5.703010e+17            NaN  Pacific Time (US & Canada)  \n2  2/24/15 11:15  5.703010e+17      Lets Play  Central Time (US & Canada)  \n3  2/24/15 11:15  5.703010e+17            NaN  Pacific Time (US & Canada)  \n4  2/24/15 11:14  5.703010e+17            NaN  Pacific Time (US & Canada)  ",
      "text/html": "<div>\n<style scoped>\n    .dataframe tbody tr th:only-of-type {\n        vertical-align: middle;\n    }\n\n    .dataframe tbody tr th {\n        vertical-align: top;\n    }\n\n    .dataframe thead th {\n        text-align: right;\n    }\n</style>\n<table border=\"1\" class=\"dataframe\">\n  <thead>\n    <tr style=\"text-align: right;\">\n      <th></th>\n      <th>_unit_id</th>\n      <th>_golden</th>\n      <th>_unit_state</th>\n      <th>_trusted_judgments</th>\n      <th>_last_judgment_at</th>\n      <th>airline_sentiment</th>\n      <th>airline_sentiment:confidence</th>\n      <th>negativereason</th>\n      <th>negativereason:confidence</th>\n      <th>airline</th>\n      <th>airline_sentiment_gold</th>\n      <th>name</th>\n      <th>negativereason_gold</th>\n      <th>retweet_count</th>\n      <th>text</th>\n      <th>tweet_coord</th>\n      <th>tweet_created</th>\n      <th>tweet_id</th>\n      <th>tweet_location</th>\n      <th>user_timezone</th>\n    </tr>\n  </thead>\n  <tbody>\n    <tr>\n      <th>0</th>\n      <td>681448150</td>\n      <td>False</td>\n      <td>finalized</td>\n      <td>3</td>\n      <td>2/25/15 5:24</td>\n      <td>neutral</td>\n      <td>1.0000</td>\n      <td>NaN</td>\n      <td>NaN</td>\n      <td>Virgin America</td>\n      <td>NaN</td>\n      <td>cairdin</td>\n      <td>NaN</td>\n      <td>0</td>\n      <td>@VirginAmerica What @dhepburn said.</td>\n      <td>NaN</td>\n      <td>2/24/15 11:35</td>\n      <td>5.703060e+17</td>\n      <td>NaN</td>\n      <td>Eastern Time (US &amp; Canada)</td>\n    </tr>\n    <tr>\n      <th>1</th>\n      <td>681448153</td>\n      <td>False</td>\n      <td>finalized</td>\n      <td>3</td>\n      <td>2/25/15 1:53</td>\n      <td>positive</td>\n      <td>0.3486</td>\n      <td>NaN</td>\n      <td>0.0000</td>\n      <td>Virgin America</td>\n      <td>NaN</td>\n      <td>jnardino</td>\n      <td>NaN</td>\n      <td>0</td>\n      <td>@VirginAmerica plus you've added commercials t...</td>\n      <td>NaN</td>\n      <td>2/24/15 11:15</td>\n      <td>5.703010e+17</td>\n      <td>NaN</td>\n      <td>Pacific Time (US &amp; Canada)</td>\n    </tr>\n    <tr>\n      <th>2</th>\n      <td>681448156</td>\n      <td>False</td>\n      <td>finalized</td>\n      <td>3</td>\n      <td>2/25/15 10:01</td>\n      <td>neutral</td>\n      <td>0.6837</td>\n      <td>NaN</td>\n      <td>NaN</td>\n      <td>Virgin America</td>\n      <td>NaN</td>\n      <td>yvonnalynn</td>\n      <td>NaN</td>\n      <td>0</td>\n      <td>@VirginAmerica I didn't today... Must mean I n...</td>\n      <td>NaN</td>\n      <td>2/24/15 11:15</td>\n      <td>5.703010e+17</td>\n      <td>Lets Play</td>\n      <td>Central Time (US &amp; Canada)</td>\n    </tr>\n    <tr>\n      <th>3</th>\n      <td>681448158</td>\n      <td>False</td>\n      <td>finalized</td>\n      <td>3</td>\n      <td>2/25/15 3:05</td>\n      <td>negative</td>\n      <td>1.0000</td>\n      <td>Bad Flight</td>\n      <td>0.7033</td>\n      <td>Virgin America</td>\n      <td>NaN</td>\n      <td>jnardino</td>\n      <td>NaN</td>\n      <td>0</td>\n      <td>@VirginAmerica it's really aggressive to blast...</td>\n      <td>NaN</td>\n      <td>2/24/15 11:15</td>\n      <td>5.703010e+17</td>\n      <td>NaN</td>\n      <td>Pacific Time (US &amp; Canada)</td>\n    </tr>\n    <tr>\n      <th>4</th>\n      <td>681448159</td>\n      <td>False</td>\n      <td>finalized</td>\n      <td>3</td>\n      <td>2/25/15 5:50</td>\n      <td>negative</td>\n      <td>1.0000</td>\n      <td>Can't Tell</td>\n      <td>1.0000</td>\n      <td>Virgin America</td>\n      <td>NaN</td>\n      <td>jnardino</td>\n      <td>NaN</td>\n      <td>0</td>\n      <td>@VirginAmerica and it's a really big bad thing...</td>\n      <td>NaN</td>\n      <td>2/24/15 11:14</td>\n      <td>5.703010e+17</td>\n      <td>NaN</td>\n      <td>Pacific Time (US &amp; Canada)</td>\n    </tr>\n  </tbody>\n</table>\n</div>"
     },
     "execution_count": 1,
     "metadata": {},
     "output_type": "execute_result"
    }
   ],
   "source": [
    "import pandas as pd\n",
    "\n",
    "data_airline = pd.read_csv('data/Airline-Sentiment-2-w-AA.csv', encoding='latin-1')\n",
    "data_airline.head()"
   ]
  },
  {
   "cell_type": "code",
   "execution_count": 2,
   "outputs": [
    {
     "data": {
      "text/plain": "(3886, 12)"
     },
     "execution_count": 2,
     "metadata": {},
     "output_type": "execute_result"
    }
   ],
   "source": [
    "data_apple = pd.read_csv('data/Apple-Twitter-Sentiment-DFE.csv', encoding='latin-1')\n",
    "data_apple.shape"
   ],
   "metadata": {
    "collapsed": false,
    "ExecuteTime": {
     "end_time": "2023-05-21T17:03:05.154630800Z",
     "start_time": "2023-05-21T17:03:05.048631100Z"
    }
   }
  },
  {
   "cell_type": "code",
   "execution_count": 3,
   "outputs": [
    {
     "data": {
      "text/plain": "(3886, 12)"
     },
     "execution_count": 3,
     "metadata": {},
     "output_type": "execute_result"
    }
   ],
   "source": [
    "data_apple.shape"
   ],
   "metadata": {
    "collapsed": false,
    "ExecuteTime": {
     "end_time": "2023-05-21T17:03:05.155631700Z",
     "start_time": "2023-05-21T17:03:05.078630700Z"
    }
   }
  },
  {
   "cell_type": "code",
   "execution_count": 4,
   "outputs": [],
   "source": [
    "tweets_apple = data_apple['text']"
   ],
   "metadata": {
    "collapsed": false,
    "ExecuteTime": {
     "end_time": "2023-05-21T17:03:05.155631700Z",
     "start_time": "2023-05-21T17:03:05.093631700Z"
    }
   }
  },
  {
   "cell_type": "code",
   "execution_count": 5,
   "outputs": [
    {
     "name": "stdout",
     "output_type": "stream",
     "text": [
      "1       RT @JPDesloges: Why AAPL Stock Had a Mini-Flas...\n",
      "2       My cat only chews @apple cords. Such an #Apple...\n",
      "3       I agree with @jimcramer that the #IndividualIn...\n",
      "4            Nobody expects the Spanish Inquisition #AAPL\n",
      "5       #AAPL:5 Rocket Stocks to Buy for December Gain...\n",
      "                              ...                        \n",
      "3881    (Via FC) Apple Is Warming Up To Social Media -...\n",
      "3882    RT @MMLXIV: there is no avocado emoji may I as...\n",
      "3883    @marcbulandr I could not agree more. Between @...\n",
      "3884    My iPhone 5's photos are no longer downloading...\n",
      "3885    RT @SwiftKey: We're so excited to be named to ...\n",
      "Name: text, Length: 3885, dtype: object\n"
     ]
    },
    {
     "data": {
      "text/plain": "0       #AAPL:The 10 best Steve Jobs emails ever...htt...\n1       RT @JPDesloges: Why AAPL Stock Had a Mini-Flas...\n2       My cat only chews @apple cords. Such an #Apple...\n3       I agree with @jimcramer that the #IndividualIn...\n4            Nobody expects the Spanish Inquisition #AAPL\n                              ...                        \n3881    (Via FC) Apple Is Warming Up To Social Media -...\n3882    RT @MMLXIV: there is no avocado emoji may I as...\n3883    @marcbulandr I could not agree more. Between @...\n3884    My iPhone 5's photos are no longer downloading...\n3885    RT @SwiftKey: We're so excited to be named to ...\nName: text, Length: 3886, dtype: object"
     },
     "execution_count": 5,
     "metadata": {},
     "output_type": "execute_result"
    }
   ],
   "source": [
    "print(tweets_apple[1:])\n",
    "tweets_apple"
   ],
   "metadata": {
    "collapsed": false,
    "ExecuteTime": {
     "end_time": "2023-05-21T17:03:05.217625700Z",
     "start_time": "2023-05-21T17:03:05.111631900Z"
    }
   }
  },
  {
   "cell_type": "code",
   "execution_count": 25,
   "outputs": [],
   "source": [
    "def clean(text, stem_words=True):\n",
    "    from text_unidecode import unidecode\n",
    "    import re\n",
    "    from string import punctuation\n",
    "    from nltk.corpus import stopwords\n",
    "    from nltk.stem import WordNetLemmatizer\n",
    "\n",
    "    # empty tweet/data point in the list\n",
    "    if type(text) != str or text=='':\n",
    "        return ''\n",
    "\n",
    "    # convert to lower case\n",
    "    text = text.lower()\n",
    "\n",
    "    #stop words\n",
    "    stop_words = stopwords.words('english')\n",
    "    lemmatizer = WordNetLemmatizer()\n",
    "\n",
    "    for word in stop_words:\n",
    "        text = text.replace(' '+word+' ', ' ')\n",
    "\n",
    "    # remove diacritics\n",
    "    text = unidecode(text)\n",
    "\n",
    "    # lemmatisation (same as stemming, but better because it keeps the context) Whereas stemming only removes the last few characters, lemmatization looks at the whole word and removes the last part of it only if it is a valid word in the dictionary.\n",
    "    text = re.sub(r\"\\b\\w+\\b\", lambda match: lemmatizer.lemmatize(match.group()), text)\n",
    "\n",
    "    text = re.sub(\"\\'s\", \" \", text) # remove possessive apostrophe\n",
    "    text = re.sub(\" whats \", \"what is\", text)\n",
    "    text = re.sub(\"\\'ve\", \" have\", text)\n",
    "    text = re.sub(\"can't\", \" cannot \", text)\n",
    "    text = re.sub(\"n't\", \" not\", text)\n",
    "    text = re.sub(\"i'm\", \"i am\", text)\n",
    "    text = re.sub(\"\\'re\", \" are\", text)\n",
    "    text = re.sub(\"\\'d\", \" would\", text)\n",
    "    text = re.sub(\"\\'ll\", \" will\", text)\n",
    "\n",
    "    #remove hyperlinks\n",
    "    text = re.sub(r\"http\\S+\", \"\", text)\n",
    "\n",
    "    #remove punctuation\n",
    "    text = re.sub(re.compile('[{}]'.format(re.escape(punctuation))), '', text)\n",
    "\n",
    "\n",
    "    return text"
   ],
   "metadata": {
    "collapsed": false,
    "ExecuteTime": {
     "end_time": "2023-05-21T17:19:35.476644800Z",
     "start_time": "2023-05-21T17:19:35.462630400Z"
    }
   }
  },
  {
   "cell_type": "code",
   "execution_count": 23,
   "outputs": [],
   "source": [
    "data_apple['text'] = data_apple['text'].apply(clean)"
   ],
   "metadata": {
    "collapsed": false,
    "ExecuteTime": {
     "end_time": "2023-05-21T17:14:30.317633200Z",
     "start_time": "2023-05-21T17:14:28.763631400Z"
    }
   }
  },
  {
   "cell_type": "code",
   "execution_count": 24,
   "outputs": [
    {
     "name": "stdout",
     "output_type": "stream",
     "text": [
      "aaplthe 10 best steve job email ever\n",
      "\n",
      "rt jpdesloges aapl stock miniflash crash today aapl aapl\n",
      "\n",
      "\n",
      "my cat chew apple cord applesnob\n",
      "\n",
      "i agree jimcramer individualinvestor trade apple aapl extended today  pullback good see\n",
      "\n",
      "nobody expects spanish inquisition aapl\n",
      "\n",
      "aapl5 rocket stock buy december gain apple more\n",
      "\n",
      "top 3 apple tablet damn right \n",
      "\n",
      "cnbctv apple  margin better expected aapl \n",
      "\n",
      "apple inc flash crash need know  aapl\n",
      "\n",
      "aaplthis presentation show make world  biggest tech company \n",
      "\n",
      "wtf battery 31 one second ago 29 wtf apple\n",
      "\n",
      "apple watch top search engine list best wearable tech  aapl iwatch applewatch\n",
      "\n",
      "the bestdesigned iphone apps world according apple  \n",
      "\n",
      "rt peterpham bought augustsmartlock apple storepretty good logo match   cannot  wait install it \n",
      "\n",
      "apple contact sync yosemite ios8 seriously screwed up used much stable past icloud isync\n",
      "\n",
      "aapl applenws thanks non factual dumb twitter follower stock drop 3 point one minute thanks dummy rumor\n",
      "\n",
      "warning buy iphone 5 unlocked apple iphone cannot use verizon network\n",
      "\n",
      "apple john cantlie prisoner isi 739 day show abandoned him sign \n",
      "\n",
      "apple thanks xtra checkin upper westside store appointment running almost 50 minute late\n",
      "\n",
      "why aapl stock miniflash crash today money morning nothing analyst suggested would make widel \n",
      "\n"
     ]
    }
   ],
   "source": [
    "for i in range(0,20):\n",
    "    print(data_apple.text[i])\n",
    "    print()\n"
   ],
   "metadata": {
    "collapsed": false,
    "ExecuteTime": {
     "end_time": "2023-05-21T17:14:30.331631700Z",
     "start_time": "2023-05-21T17:14:30.316671700Z"
    }
   }
  },
  {
   "cell_type": "code",
   "execution_count": null,
   "outputs": [],
   "source": [],
   "metadata": {
    "collapsed": false
   }
  }
 ],
 "metadata": {
  "kernelspec": {
   "display_name": "Python 3",
   "language": "python",
   "name": "python3"
  },
  "language_info": {
   "codemirror_mode": {
    "name": "ipython",
    "version": 2
   },
   "file_extension": ".py",
   "mimetype": "text/x-python",
   "name": "python",
   "nbconvert_exporter": "python",
   "pygments_lexer": "ipython2",
   "version": "2.7.6"
  }
 },
 "nbformat": 4,
 "nbformat_minor": 0
}
